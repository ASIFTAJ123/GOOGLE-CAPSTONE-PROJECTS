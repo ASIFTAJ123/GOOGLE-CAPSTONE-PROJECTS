{
 "cells": [
  {
   "cell_type": "markdown",
   "id": "d9a9c71e",
   "metadata": {},
   "source": [
    "   # GOOGLE CAPSTONE PROJECT "
   ]
  },
  {
   "cell_type": "markdown",
   "id": "82d0a0af",
   "metadata": {},
   "source": [
    "TITLE : CYCLISTIC BIKE-SHARE\n",
    "\n",
    "AUTHOR : MOHD ASIF TAJ\n",
    "\n",
    "DATE : 01/05/2022"
   ]
  },
  {
   "cell_type": "markdown",
   "id": "8c850160",
   "metadata": {},
   "source": [
    "> ### Case Study: How Does a Bike-Share Navigate Speedy Success?"
   ]
  },
  {
   "cell_type": "markdown",
   "id": "9468fdc2",
   "metadata": {},
   "source": [
    "![cycle](https://miro.medium.com/max/293/1*ddC1KfTAHBXjmGseS2drRw.png)"
   ]
  },
  {
   "cell_type": "markdown",
   "id": "c2ad5f30",
   "metadata": {},
   "source": [
    "### > About The Company\n",
    "In 2016, Cyclistic launched a successful bike-share offering. Since then, the program has grown to a fleet of 5,824 bicycles \n",
    "that\n",
    "are geotracked and locked into a network of 692 stations across Chicago. The bikes can be unlocked from one station and\n",
    "returned to any other station in the system anytime."
   ]
  },
  {
   "cell_type": "markdown",
   "id": "fffe8506",
   "metadata": {},
   "source": [
    "### Importing the necessary libraries"
   ]
  },
  {
   "cell_type": "code",
   "execution_count": 1,
   "id": "10a9430d",
   "metadata": {},
   "outputs": [],
   "source": [
    "import pandas as pd"
   ]
  },
  {
   "cell_type": "markdown",
   "id": "8e86b819",
   "metadata": {},
   "source": [
    "#### Reading all the csv/data file of the case study (data is from april 2020 to april 2022)"
   ]
  },
  {
   "cell_type": "code",
   "execution_count": 2,
   "id": "0743fe92",
   "metadata": {},
   "outputs": [],
   "source": [
    "df1 = pd.read_csv(r'F:\\google cap project\\202004-divvy-tripdata.csv')\n",
    "df2 = pd.read_csv(r'F:\\google cap project\\202005-divvy-tripdata.csv')\n",
    "df3 = pd.read_csv(r'F:\\google cap project\\202006-divvy-tripdata.csv')\n",
    "df4 = pd.read_csv(r'F:\\google cap project\\202007-divvy-tripdata.csv')\n",
    "df5 = pd.read_csv(r'F:\\google cap project\\202008-divvy-tripdata.csv')\n",
    "df6 = pd.read_csv(r'F:\\google cap project\\202009-divvy-tripdata.csv')\n",
    "df7 = pd.read_csv(r'F:\\google cap project\\202010-divvy-tripdata.csv')\n",
    "df8 = pd.read_csv(r'F:\\google cap project\\202011-divvy-tripdata.csv')\n",
    "df9 = pd.read_csv(r'F:\\google cap project\\202012-divvy-tripdata.csv')\n",
    "df10 = pd.read_csv(r'F:\\google cap project\\202101-divvy-tripdata.csv')\n",
    "df11 = pd.read_csv(r'F:\\google cap project\\202102-divvy-tripdata.csv')\n",
    "df12 = pd.read_csv(r'F:\\google cap project\\202103-divvy-tripdata.csv')\n",
    "df13 = pd.read_csv(r'F:\\google cap project\\202104-divvy-tripdata.csv')\n",
    "df14 = pd.read_csv(r'F:\\google cap project\\202105-divvy-tripdata.csv')\n",
    "df15 = pd.read_csv(r'F:\\google cap project\\202106-divvy-tripdata.csv')\n",
    "df16 = pd.read_csv(r'F:\\google cap project\\202107-divvy-tripdata.csv')\n",
    "df17 = pd.read_csv(r'F:\\google cap project\\202108-divvy-tripdata.csv')\n",
    "df18 = pd.read_csv(r'F:\\google cap project\\202109-divvy-tripdata.csv')\n",
    "df19 = pd.read_csv(r'F:\\google cap project\\202110-divvy-tripdata.csv')\n",
    "df20 = pd.read_csv(r'F:\\google cap project\\202111-divvy-tripdata.csv')\n",
    "df21 = pd.read_csv(r'F:\\google cap project\\202112-divvy-tripdata.csv')\n",
    "df22 = pd.read_csv(r'F:\\google cap project\\202201-divvy-tripdata.csv')\n",
    "df23 = pd.read_csv(r'F:\\google cap project\\202202-divvy-tripdata.csv')\n",
    "df24 = pd.read_csv(r'F:\\google cap project\\202203-divvy-tripdata.csv')\n",
    "df25 = pd.read_csv(r'F:\\google cap project\\202204-divvy-tripdata.csv')"
   ]
  },
  {
   "cell_type": "markdown",
   "id": "5a6b2d24",
   "metadata": {},
   "source": [
    "### Concatinating all the dataframe (df1 - df25) into one dataframe called 'df'"
   ]
  },
  {
   "cell_type": "code",
   "execution_count": 3,
   "id": "e453987b",
   "metadata": {},
   "outputs": [],
   "source": [
    "df = pd.concat([df1,df2,df3,df4,df5,df6,df7,df8,df9,df10,df11,df12,df13,df14,df15,df16,df17,df18,df19,df20,df21,df22,df23,df24,df25], axis=0) "
   ]
  },
  {
   "cell_type": "markdown",
   "id": "51b09a76",
   "metadata": {},
   "source": [
    "### Getting the general information from the data\n"
   ]
  },
  {
   "cell_type": "code",
   "execution_count": 4,
   "id": "9c93dda0",
   "metadata": {},
   "outputs": [
    {
     "data": {
      "text/html": [
       "<div>\n",
       "<style scoped>\n",
       "    .dataframe tbody tr th:only-of-type {\n",
       "        vertical-align: middle;\n",
       "    }\n",
       "\n",
       "    .dataframe tbody tr th {\n",
       "        vertical-align: top;\n",
       "    }\n",
       "\n",
       "    .dataframe thead th {\n",
       "        text-align: right;\n",
       "    }\n",
       "</style>\n",
       "<table border=\"1\" class=\"dataframe\">\n",
       "  <thead>\n",
       "    <tr style=\"text-align: right;\">\n",
       "      <th></th>\n",
       "      <th>ride_id</th>\n",
       "      <th>rideable_type</th>\n",
       "      <th>started_at</th>\n",
       "      <th>ended_at</th>\n",
       "      <th>start_station_name</th>\n",
       "      <th>start_station_id</th>\n",
       "      <th>end_station_name</th>\n",
       "      <th>end_station_id</th>\n",
       "      <th>start_lat</th>\n",
       "      <th>start_lng</th>\n",
       "      <th>end_lat</th>\n",
       "      <th>end_lng</th>\n",
       "      <th>member_casual</th>\n",
       "    </tr>\n",
       "  </thead>\n",
       "  <tbody>\n",
       "    <tr>\n",
       "      <th>0</th>\n",
       "      <td>A847FADBBC638E45</td>\n",
       "      <td>docked_bike</td>\n",
       "      <td>2020-04-26 17:45:14</td>\n",
       "      <td>2020-04-26 18:12:03</td>\n",
       "      <td>Eckhart Park</td>\n",
       "      <td>86</td>\n",
       "      <td>Lincoln Ave &amp; Diversey Pkwy</td>\n",
       "      <td>152.0</td>\n",
       "      <td>41.8964</td>\n",
       "      <td>-87.6610</td>\n",
       "      <td>41.9322</td>\n",
       "      <td>-87.6586</td>\n",
       "      <td>member</td>\n",
       "    </tr>\n",
       "    <tr>\n",
       "      <th>1</th>\n",
       "      <td>5405B80E996FF60D</td>\n",
       "      <td>docked_bike</td>\n",
       "      <td>2020-04-17 17:08:54</td>\n",
       "      <td>2020-04-17 17:17:03</td>\n",
       "      <td>Drake Ave &amp; Fullerton Ave</td>\n",
       "      <td>503</td>\n",
       "      <td>Kosciuszko Park</td>\n",
       "      <td>499.0</td>\n",
       "      <td>41.9244</td>\n",
       "      <td>-87.7154</td>\n",
       "      <td>41.9306</td>\n",
       "      <td>-87.7238</td>\n",
       "      <td>member</td>\n",
       "    </tr>\n",
       "    <tr>\n",
       "      <th>2</th>\n",
       "      <td>5DD24A79A4E006F4</td>\n",
       "      <td>docked_bike</td>\n",
       "      <td>2020-04-01 17:54:13</td>\n",
       "      <td>2020-04-01 18:08:36</td>\n",
       "      <td>McClurg Ct &amp; Erie St</td>\n",
       "      <td>142</td>\n",
       "      <td>Indiana Ave &amp; Roosevelt Rd</td>\n",
       "      <td>255.0</td>\n",
       "      <td>41.8945</td>\n",
       "      <td>-87.6179</td>\n",
       "      <td>41.8679</td>\n",
       "      <td>-87.6230</td>\n",
       "      <td>member</td>\n",
       "    </tr>\n",
       "    <tr>\n",
       "      <th>3</th>\n",
       "      <td>2A59BBDF5CDBA725</td>\n",
       "      <td>docked_bike</td>\n",
       "      <td>2020-04-07 12:50:19</td>\n",
       "      <td>2020-04-07 13:02:31</td>\n",
       "      <td>California Ave &amp; Division St</td>\n",
       "      <td>216</td>\n",
       "      <td>Wood St &amp; Augusta Blvd</td>\n",
       "      <td>657.0</td>\n",
       "      <td>41.9030</td>\n",
       "      <td>-87.6975</td>\n",
       "      <td>41.8992</td>\n",
       "      <td>-87.6722</td>\n",
       "      <td>member</td>\n",
       "    </tr>\n",
       "    <tr>\n",
       "      <th>4</th>\n",
       "      <td>27AD306C119C6158</td>\n",
       "      <td>docked_bike</td>\n",
       "      <td>2020-04-18 10:22:59</td>\n",
       "      <td>2020-04-18 11:15:54</td>\n",
       "      <td>Rush St &amp; Hubbard St</td>\n",
       "      <td>125</td>\n",
       "      <td>Sheridan Rd &amp; Lawrence Ave</td>\n",
       "      <td>323.0</td>\n",
       "      <td>41.8902</td>\n",
       "      <td>-87.6262</td>\n",
       "      <td>41.9695</td>\n",
       "      <td>-87.6547</td>\n",
       "      <td>casual</td>\n",
       "    </tr>\n",
       "  </tbody>\n",
       "</table>\n",
       "</div>"
      ],
      "text/plain": [
       "            ride_id rideable_type           started_at             ended_at  \\\n",
       "0  A847FADBBC638E45   docked_bike  2020-04-26 17:45:14  2020-04-26 18:12:03   \n",
       "1  5405B80E996FF60D   docked_bike  2020-04-17 17:08:54  2020-04-17 17:17:03   \n",
       "2  5DD24A79A4E006F4   docked_bike  2020-04-01 17:54:13  2020-04-01 18:08:36   \n",
       "3  2A59BBDF5CDBA725   docked_bike  2020-04-07 12:50:19  2020-04-07 13:02:31   \n",
       "4  27AD306C119C6158   docked_bike  2020-04-18 10:22:59  2020-04-18 11:15:54   \n",
       "\n",
       "             start_station_name start_station_id             end_station_name  \\\n",
       "0                  Eckhart Park               86  Lincoln Ave & Diversey Pkwy   \n",
       "1     Drake Ave & Fullerton Ave              503              Kosciuszko Park   \n",
       "2          McClurg Ct & Erie St              142   Indiana Ave & Roosevelt Rd   \n",
       "3  California Ave & Division St              216       Wood St & Augusta Blvd   \n",
       "4          Rush St & Hubbard St              125   Sheridan Rd & Lawrence Ave   \n",
       "\n",
       "  end_station_id  start_lat  start_lng  end_lat  end_lng member_casual  \n",
       "0          152.0    41.8964   -87.6610  41.9322 -87.6586        member  \n",
       "1          499.0    41.9244   -87.7154  41.9306 -87.7238        member  \n",
       "2          255.0    41.8945   -87.6179  41.8679 -87.6230        member  \n",
       "3          657.0    41.9030   -87.6975  41.8992 -87.6722        member  \n",
       "4          323.0    41.8902   -87.6262  41.9695 -87.6547        casual  "
      ]
     },
     "execution_count": 4,
     "metadata": {},
     "output_type": "execute_result"
    }
   ],
   "source": [
    "df.head()"
   ]
  },
  {
   "cell_type": "code",
   "execution_count": 5,
   "id": "2867f8d9",
   "metadata": {},
   "outputs": [
    {
     "data": {
      "text/html": [
       "<div>\n",
       "<style scoped>\n",
       "    .dataframe tbody tr th:only-of-type {\n",
       "        vertical-align: middle;\n",
       "    }\n",
       "\n",
       "    .dataframe tbody tr th {\n",
       "        vertical-align: top;\n",
       "    }\n",
       "\n",
       "    .dataframe thead th {\n",
       "        text-align: right;\n",
       "    }\n",
       "</style>\n",
       "<table border=\"1\" class=\"dataframe\">\n",
       "  <thead>\n",
       "    <tr style=\"text-align: right;\">\n",
       "      <th></th>\n",
       "      <th>ride_id</th>\n",
       "      <th>rideable_type</th>\n",
       "      <th>started_at</th>\n",
       "      <th>ended_at</th>\n",
       "      <th>start_station_name</th>\n",
       "      <th>start_station_id</th>\n",
       "      <th>end_station_name</th>\n",
       "      <th>end_station_id</th>\n",
       "      <th>start_lat</th>\n",
       "      <th>start_lng</th>\n",
       "      <th>end_lat</th>\n",
       "      <th>end_lng</th>\n",
       "      <th>member_casual</th>\n",
       "    </tr>\n",
       "  </thead>\n",
       "  <tbody>\n",
       "    <tr>\n",
       "      <th>371244</th>\n",
       "      <td>C5A123D7BF8D350A</td>\n",
       "      <td>electric_bike</td>\n",
       "      <td>2022-04-22 15:54:11</td>\n",
       "      <td>2022-04-22 16:20:59</td>\n",
       "      <td>Streeter Dr &amp; Grand Ave</td>\n",
       "      <td>13022</td>\n",
       "      <td>California Ave &amp; North Ave</td>\n",
       "      <td>13258</td>\n",
       "      <td>41.892296</td>\n",
       "      <td>-87.612198</td>\n",
       "      <td>41.910475</td>\n",
       "      <td>-87.696894</td>\n",
       "      <td>member</td>\n",
       "    </tr>\n",
       "    <tr>\n",
       "      <th>371245</th>\n",
       "      <td>F7FCC7C26D8D137D</td>\n",
       "      <td>electric_bike</td>\n",
       "      <td>2022-04-21 20:18:17</td>\n",
       "      <td>2022-04-21 20:46:45</td>\n",
       "      <td>Streeter Dr &amp; Grand Ave</td>\n",
       "      <td>13022</td>\n",
       "      <td>California Ave &amp; North Ave</td>\n",
       "      <td>13258</td>\n",
       "      <td>41.892295</td>\n",
       "      <td>-87.612323</td>\n",
       "      <td>41.910475</td>\n",
       "      <td>-87.696894</td>\n",
       "      <td>member</td>\n",
       "    </tr>\n",
       "    <tr>\n",
       "      <th>371246</th>\n",
       "      <td>43D351300A40000A</td>\n",
       "      <td>classic_bike</td>\n",
       "      <td>2022-04-21 16:46:02</td>\n",
       "      <td>2022-04-21 17:15:05</td>\n",
       "      <td>Franklin St &amp; Monroe St</td>\n",
       "      <td>TA1309000007</td>\n",
       "      <td>St. Clair St &amp; Erie St</td>\n",
       "      <td>13016</td>\n",
       "      <td>41.880317</td>\n",
       "      <td>-87.635185</td>\n",
       "      <td>41.894345</td>\n",
       "      <td>-87.622798</td>\n",
       "      <td>member</td>\n",
       "    </tr>\n",
       "    <tr>\n",
       "      <th>371247</th>\n",
       "      <td>1618BFEEA7B566EF</td>\n",
       "      <td>electric_bike</td>\n",
       "      <td>2022-04-16 13:19:44</td>\n",
       "      <td>2022-04-16 13:37:31</td>\n",
       "      <td>Ashland Ave &amp; Blackhawk St</td>\n",
       "      <td>13224</td>\n",
       "      <td>Southport Ave &amp; Waveland Ave</td>\n",
       "      <td>13235</td>\n",
       "      <td>41.907094</td>\n",
       "      <td>-87.667217</td>\n",
       "      <td>41.948150</td>\n",
       "      <td>-87.663940</td>\n",
       "      <td>casual</td>\n",
       "    </tr>\n",
       "    <tr>\n",
       "      <th>371248</th>\n",
       "      <td>92C069001A6B17B1</td>\n",
       "      <td>electric_bike</td>\n",
       "      <td>2022-04-21 18:06:41</td>\n",
       "      <td>2022-04-21 18:11:49</td>\n",
       "      <td>Southport Ave &amp; Clark St</td>\n",
       "      <td>TA1308000047</td>\n",
       "      <td>Southport Ave &amp; Waveland Ave</td>\n",
       "      <td>13235</td>\n",
       "      <td>41.957102</td>\n",
       "      <td>-87.664184</td>\n",
       "      <td>41.948150</td>\n",
       "      <td>-87.663940</td>\n",
       "      <td>casual</td>\n",
       "    </tr>\n",
       "  </tbody>\n",
       "</table>\n",
       "</div>"
      ],
      "text/plain": [
       "                 ride_id  rideable_type           started_at  \\\n",
       "371244  C5A123D7BF8D350A  electric_bike  2022-04-22 15:54:11   \n",
       "371245  F7FCC7C26D8D137D  electric_bike  2022-04-21 20:18:17   \n",
       "371246  43D351300A40000A   classic_bike  2022-04-21 16:46:02   \n",
       "371247  1618BFEEA7B566EF  electric_bike  2022-04-16 13:19:44   \n",
       "371248  92C069001A6B17B1  electric_bike  2022-04-21 18:06:41   \n",
       "\n",
       "                   ended_at          start_station_name start_station_id  \\\n",
       "371244  2022-04-22 16:20:59     Streeter Dr & Grand Ave            13022   \n",
       "371245  2022-04-21 20:46:45     Streeter Dr & Grand Ave            13022   \n",
       "371246  2022-04-21 17:15:05     Franklin St & Monroe St     TA1309000007   \n",
       "371247  2022-04-16 13:37:31  Ashland Ave & Blackhawk St            13224   \n",
       "371248  2022-04-21 18:11:49    Southport Ave & Clark St     TA1308000047   \n",
       "\n",
       "                    end_station_name end_station_id  start_lat  start_lng  \\\n",
       "371244    California Ave & North Ave          13258  41.892296 -87.612198   \n",
       "371245    California Ave & North Ave          13258  41.892295 -87.612323   \n",
       "371246        St. Clair St & Erie St          13016  41.880317 -87.635185   \n",
       "371247  Southport Ave & Waveland Ave          13235  41.907094 -87.667217   \n",
       "371248  Southport Ave & Waveland Ave          13235  41.957102 -87.664184   \n",
       "\n",
       "          end_lat    end_lng member_casual  \n",
       "371244  41.910475 -87.696894        member  \n",
       "371245  41.910475 -87.696894        member  \n",
       "371246  41.894345 -87.622798        member  \n",
       "371247  41.948150 -87.663940        casual  \n",
       "371248  41.948150 -87.663940        casual  "
      ]
     },
     "execution_count": 5,
     "metadata": {},
     "output_type": "execute_result"
    }
   ],
   "source": [
    "df.tail()"
   ]
  },
  {
   "cell_type": "markdown",
   "id": "40d05ecf",
   "metadata": {},
   "source": [
    "### Checking the no of rows and column"
   ]
  },
  {
   "cell_type": "code",
   "execution_count": 6,
   "id": "02337a1b",
   "metadata": {},
   "outputs": [
    {
     "data": {
      "text/plain": [
       "(9584529, 13)"
      ]
     },
     "execution_count": 6,
     "metadata": {},
     "output_type": "execute_result"
    }
   ],
   "source": [
    "df.shape"
   ]
  },
  {
   "cell_type": "code",
   "execution_count": 7,
   "id": "4c8cc5fa",
   "metadata": {},
   "outputs": [
    {
     "name": "stdout",
     "output_type": "stream",
     "text": [
      "<class 'pandas.core.frame.DataFrame'>\n",
      "Int64Index: 9584529 entries, 0 to 371248\n",
      "Data columns (total 13 columns):\n",
      " #   Column              Dtype  \n",
      "---  ------              -----  \n",
      " 0   ride_id             object \n",
      " 1   rideable_type       object \n",
      " 2   started_at          object \n",
      " 3   ended_at            object \n",
      " 4   start_station_name  object \n",
      " 5   start_station_id    object \n",
      " 6   end_station_name    object \n",
      " 7   end_station_id      object \n",
      " 8   start_lat           float64\n",
      " 9   start_lng           float64\n",
      " 10  end_lat             float64\n",
      " 11  end_lng             float64\n",
      " 12  member_casual       object \n",
      "dtypes: float64(4), object(9)\n",
      "memory usage: 1023.7+ MB\n"
     ]
    }
   ],
   "source": [
    "df.info()"
   ]
  },
  {
   "cell_type": "markdown",
   "id": "86351adb",
   "metadata": {},
   "source": [
    "### Started_at and ended_at column should be a datetime column but here it is object data type."
   ]
  },
  {
   "cell_type": "code",
   "execution_count": 8,
   "id": "ced97ca9",
   "metadata": {},
   "outputs": [
    {
     "data": {
      "text/plain": [
       "ride_id                object\n",
       "rideable_type          object\n",
       "started_at             object\n",
       "ended_at               object\n",
       "start_station_name     object\n",
       "start_station_id       object\n",
       "end_station_name       object\n",
       "end_station_id         object\n",
       "start_lat             float64\n",
       "start_lng             float64\n",
       "end_lat               float64\n",
       "end_lng               float64\n",
       "member_casual          object\n",
       "dtype: object"
      ]
     },
     "execution_count": 8,
     "metadata": {},
     "output_type": "execute_result"
    }
   ],
   "source": [
    "df.dtypes"
   ]
  },
  {
   "cell_type": "markdown",
   "id": "64c9eb66",
   "metadata": {},
   "source": [
    "### Checking no of null values in the data"
   ]
  },
  {
   "cell_type": "code",
   "execution_count": 9,
   "id": "1face71e",
   "metadata": {},
   "outputs": [
    {
     "data": {
      "text/plain": [
       "ride_id                     0\n",
       "rideable_type               0\n",
       "started_at                  0\n",
       "ended_at                    0\n",
       "start_station_name     938438\n",
       "start_station_id       939061\n",
       "end_station_name      1014777\n",
       "end_station_id        1015238\n",
       "start_lat                   0\n",
       "start_lng                   0\n",
       "end_lat                  9771\n",
       "end_lng                  9771\n",
       "member_casual               0\n",
       "dtype: int64"
      ]
     },
     "execution_count": 9,
     "metadata": {},
     "output_type": "execute_result"
    }
   ],
   "source": [
    "df.isnull().sum()"
   ]
  },
  {
   "cell_type": "code",
   "execution_count": 10,
   "id": "332163e6",
   "metadata": {},
   "outputs": [
    {
     "data": {
      "text/plain": [
       "Index(['ride_id', 'rideable_type', 'started_at', 'ended_at',\n",
       "       'start_station_name', 'start_station_id', 'end_station_name',\n",
       "       'end_station_id', 'start_lat', 'start_lng', 'end_lat', 'end_lng',\n",
       "       'member_casual'],\n",
       "      dtype='object')"
      ]
     },
     "execution_count": 10,
     "metadata": {},
     "output_type": "execute_result"
    }
   ],
   "source": [
    "df.columns"
   ]
  },
  {
   "cell_type": "code",
   "execution_count": 11,
   "id": "8de7fa92",
   "metadata": {},
   "outputs": [
    {
     "data": {
      "text/html": [
       "<div>\n",
       "<style scoped>\n",
       "    .dataframe tbody tr th:only-of-type {\n",
       "        vertical-align: middle;\n",
       "    }\n",
       "\n",
       "    .dataframe tbody tr th {\n",
       "        vertical-align: top;\n",
       "    }\n",
       "\n",
       "    .dataframe thead th {\n",
       "        text-align: right;\n",
       "    }\n",
       "</style>\n",
       "<table border=\"1\" class=\"dataframe\">\n",
       "  <thead>\n",
       "    <tr style=\"text-align: right;\">\n",
       "      <th></th>\n",
       "      <th>start_lat</th>\n",
       "      <th>start_lng</th>\n",
       "      <th>end_lat</th>\n",
       "      <th>end_lng</th>\n",
       "    </tr>\n",
       "  </thead>\n",
       "  <tbody>\n",
       "    <tr>\n",
       "      <th>count</th>\n",
       "      <td>9.584529e+06</td>\n",
       "      <td>9.584529e+06</td>\n",
       "      <td>9.574758e+06</td>\n",
       "      <td>9.574758e+06</td>\n",
       "    </tr>\n",
       "    <tr>\n",
       "      <th>mean</th>\n",
       "      <td>4.190176e+01</td>\n",
       "      <td>-8.764587e+01</td>\n",
       "      <td>4.190203e+01</td>\n",
       "      <td>-8.764610e+01</td>\n",
       "    </tr>\n",
       "    <tr>\n",
       "      <th>std</th>\n",
       "      <td>4.570279e-02</td>\n",
       "      <td>2.852420e-02</td>\n",
       "      <td>4.579205e-02</td>\n",
       "      <td>2.832583e-02</td>\n",
       "    </tr>\n",
       "    <tr>\n",
       "      <th>min</th>\n",
       "      <td>4.164000e+01</td>\n",
       "      <td>-8.787000e+01</td>\n",
       "      <td>4.139000e+01</td>\n",
       "      <td>-8.897000e+01</td>\n",
       "    </tr>\n",
       "    <tr>\n",
       "      <th>25%</th>\n",
       "      <td>4.188169e+01</td>\n",
       "      <td>-8.766000e+01</td>\n",
       "      <td>4.188189e+01</td>\n",
       "      <td>-8.766000e+01</td>\n",
       "    </tr>\n",
       "    <tr>\n",
       "      <th>50%</th>\n",
       "      <td>4.189897e+01</td>\n",
       "      <td>-8.764182e+01</td>\n",
       "      <td>4.189967e+01</td>\n",
       "      <td>-8.764288e+01</td>\n",
       "    </tr>\n",
       "    <tr>\n",
       "      <th>75%</th>\n",
       "      <td>4.192947e+01</td>\n",
       "      <td>-8.762775e+01</td>\n",
       "      <td>4.192955e+01</td>\n",
       "      <td>-8.762775e+01</td>\n",
       "    </tr>\n",
       "    <tr>\n",
       "      <th>max</th>\n",
       "      <td>4.563503e+01</td>\n",
       "      <td>-7.379648e+01</td>\n",
       "      <td>4.216812e+01</td>\n",
       "      <td>-8.744000e+01</td>\n",
       "    </tr>\n",
       "  </tbody>\n",
       "</table>\n",
       "</div>"
      ],
      "text/plain": [
       "          start_lat     start_lng       end_lat       end_lng\n",
       "count  9.584529e+06  9.584529e+06  9.574758e+06  9.574758e+06\n",
       "mean   4.190176e+01 -8.764587e+01  4.190203e+01 -8.764610e+01\n",
       "std    4.570279e-02  2.852420e-02  4.579205e-02  2.832583e-02\n",
       "min    4.164000e+01 -8.787000e+01  4.139000e+01 -8.897000e+01\n",
       "25%    4.188169e+01 -8.766000e+01  4.188189e+01 -8.766000e+01\n",
       "50%    4.189897e+01 -8.764182e+01  4.189967e+01 -8.764288e+01\n",
       "75%    4.192947e+01 -8.762775e+01  4.192955e+01 -8.762775e+01\n",
       "max    4.563503e+01 -7.379648e+01  4.216812e+01 -8.744000e+01"
      ]
     },
     "execution_count": 11,
     "metadata": {},
     "output_type": "execute_result"
    }
   ],
   "source": [
    "df.describe()"
   ]
  },
  {
   "cell_type": "markdown",
   "id": "bcd0b44b",
   "metadata": {},
   "source": [
    "### Converting started_at and ended_at column into datetime column."
   ]
  },
  {
   "cell_type": "code",
   "execution_count": 12,
   "id": "650b8c16",
   "metadata": {},
   "outputs": [],
   "source": [
    "df['started_at']= pd.to_datetime(df['started_at'])\n",
    "df['ended_at']= pd.to_datetime(df['ended_at'])"
   ]
  },
  {
   "cell_type": "code",
   "execution_count": 13,
   "id": "6d99e43d",
   "metadata": {},
   "outputs": [
    {
     "data": {
      "text/plain": [
       "ride_id                       object\n",
       "rideable_type                 object\n",
       "started_at            datetime64[ns]\n",
       "ended_at              datetime64[ns]\n",
       "start_station_name            object\n",
       "start_station_id              object\n",
       "end_station_name              object\n",
       "end_station_id                object\n",
       "start_lat                    float64\n",
       "start_lng                    float64\n",
       "end_lat                      float64\n",
       "end_lng                      float64\n",
       "member_casual                 object\n",
       "dtype: object"
      ]
     },
     "execution_count": 13,
     "metadata": {},
     "output_type": "execute_result"
    }
   ],
   "source": [
    "df.dtypes"
   ]
  },
  {
   "cell_type": "markdown",
   "id": "4c41e6d0",
   "metadata": {},
   "source": [
    "### Drop the unnecessary column from the dataset which are not useful for our analysis"
   ]
  },
  {
   "cell_type": "code",
   "execution_count": 14,
   "id": "3f0d5c91",
   "metadata": {},
   "outputs": [],
   "source": [
    "df.drop(['ride_id','start_lat','start_lng','end_lat','end_lng','start_station_id','end_station_id'],axis= 1,inplace=True)"
   ]
  },
  {
   "cell_type": "code",
   "execution_count": 15,
   "id": "7ed20ce7",
   "metadata": {},
   "outputs": [
    {
     "data": {
      "text/html": [
       "<div>\n",
       "<style scoped>\n",
       "    .dataframe tbody tr th:only-of-type {\n",
       "        vertical-align: middle;\n",
       "    }\n",
       "\n",
       "    .dataframe tbody tr th {\n",
       "        vertical-align: top;\n",
       "    }\n",
       "\n",
       "    .dataframe thead th {\n",
       "        text-align: right;\n",
       "    }\n",
       "</style>\n",
       "<table border=\"1\" class=\"dataframe\">\n",
       "  <thead>\n",
       "    <tr style=\"text-align: right;\">\n",
       "      <th></th>\n",
       "      <th>rideable_type</th>\n",
       "      <th>started_at</th>\n",
       "      <th>ended_at</th>\n",
       "      <th>start_station_name</th>\n",
       "      <th>end_station_name</th>\n",
       "      <th>member_casual</th>\n",
       "    </tr>\n",
       "  </thead>\n",
       "  <tbody>\n",
       "    <tr>\n",
       "      <th>0</th>\n",
       "      <td>docked_bike</td>\n",
       "      <td>2020-04-26 17:45:14</td>\n",
       "      <td>2020-04-26 18:12:03</td>\n",
       "      <td>Eckhart Park</td>\n",
       "      <td>Lincoln Ave &amp; Diversey Pkwy</td>\n",
       "      <td>member</td>\n",
       "    </tr>\n",
       "    <tr>\n",
       "      <th>1</th>\n",
       "      <td>docked_bike</td>\n",
       "      <td>2020-04-17 17:08:54</td>\n",
       "      <td>2020-04-17 17:17:03</td>\n",
       "      <td>Drake Ave &amp; Fullerton Ave</td>\n",
       "      <td>Kosciuszko Park</td>\n",
       "      <td>member</td>\n",
       "    </tr>\n",
       "    <tr>\n",
       "      <th>2</th>\n",
       "      <td>docked_bike</td>\n",
       "      <td>2020-04-01 17:54:13</td>\n",
       "      <td>2020-04-01 18:08:36</td>\n",
       "      <td>McClurg Ct &amp; Erie St</td>\n",
       "      <td>Indiana Ave &amp; Roosevelt Rd</td>\n",
       "      <td>member</td>\n",
       "    </tr>\n",
       "    <tr>\n",
       "      <th>3</th>\n",
       "      <td>docked_bike</td>\n",
       "      <td>2020-04-07 12:50:19</td>\n",
       "      <td>2020-04-07 13:02:31</td>\n",
       "      <td>California Ave &amp; Division St</td>\n",
       "      <td>Wood St &amp; Augusta Blvd</td>\n",
       "      <td>member</td>\n",
       "    </tr>\n",
       "    <tr>\n",
       "      <th>4</th>\n",
       "      <td>docked_bike</td>\n",
       "      <td>2020-04-18 10:22:59</td>\n",
       "      <td>2020-04-18 11:15:54</td>\n",
       "      <td>Rush St &amp; Hubbard St</td>\n",
       "      <td>Sheridan Rd &amp; Lawrence Ave</td>\n",
       "      <td>casual</td>\n",
       "    </tr>\n",
       "  </tbody>\n",
       "</table>\n",
       "</div>"
      ],
      "text/plain": [
       "  rideable_type          started_at            ended_at  \\\n",
       "0   docked_bike 2020-04-26 17:45:14 2020-04-26 18:12:03   \n",
       "1   docked_bike 2020-04-17 17:08:54 2020-04-17 17:17:03   \n",
       "2   docked_bike 2020-04-01 17:54:13 2020-04-01 18:08:36   \n",
       "3   docked_bike 2020-04-07 12:50:19 2020-04-07 13:02:31   \n",
       "4   docked_bike 2020-04-18 10:22:59 2020-04-18 11:15:54   \n",
       "\n",
       "             start_station_name             end_station_name member_casual  \n",
       "0                  Eckhart Park  Lincoln Ave & Diversey Pkwy        member  \n",
       "1     Drake Ave & Fullerton Ave              Kosciuszko Park        member  \n",
       "2          McClurg Ct & Erie St   Indiana Ave & Roosevelt Rd        member  \n",
       "3  California Ave & Division St       Wood St & Augusta Blvd        member  \n",
       "4          Rush St & Hubbard St   Sheridan Rd & Lawrence Ave        casual  "
      ]
     },
     "execution_count": 15,
     "metadata": {},
     "output_type": "execute_result"
    }
   ],
   "source": [
    "df.head()"
   ]
  },
  {
   "cell_type": "markdown",
   "id": "59a45604",
   "metadata": {},
   "source": [
    "### Converting started_at date into the name of the days."
   ]
  },
  {
   "cell_type": "code",
   "execution_count": 16,
   "id": "88762523",
   "metadata": {},
   "outputs": [],
   "source": [
    "df['name_of_days'] = df['started_at'].apply(lambda x : x.strftime(\"%A\"))"
   ]
  },
  {
   "cell_type": "code",
   "execution_count": 17,
   "id": "fb339892",
   "metadata": {},
   "outputs": [
    {
     "data": {
      "text/html": [
       "<div>\n",
       "<style scoped>\n",
       "    .dataframe tbody tr th:only-of-type {\n",
       "        vertical-align: middle;\n",
       "    }\n",
       "\n",
       "    .dataframe tbody tr th {\n",
       "        vertical-align: top;\n",
       "    }\n",
       "\n",
       "    .dataframe thead th {\n",
       "        text-align: right;\n",
       "    }\n",
       "</style>\n",
       "<table border=\"1\" class=\"dataframe\">\n",
       "  <thead>\n",
       "    <tr style=\"text-align: right;\">\n",
       "      <th></th>\n",
       "      <th>rideable_type</th>\n",
       "      <th>started_at</th>\n",
       "      <th>ended_at</th>\n",
       "      <th>start_station_name</th>\n",
       "      <th>end_station_name</th>\n",
       "      <th>member_casual</th>\n",
       "      <th>name_of_days</th>\n",
       "    </tr>\n",
       "  </thead>\n",
       "  <tbody>\n",
       "    <tr>\n",
       "      <th>0</th>\n",
       "      <td>docked_bike</td>\n",
       "      <td>2020-04-26 17:45:14</td>\n",
       "      <td>2020-04-26 18:12:03</td>\n",
       "      <td>Eckhart Park</td>\n",
       "      <td>Lincoln Ave &amp; Diversey Pkwy</td>\n",
       "      <td>member</td>\n",
       "      <td>Sunday</td>\n",
       "    </tr>\n",
       "    <tr>\n",
       "      <th>1</th>\n",
       "      <td>docked_bike</td>\n",
       "      <td>2020-04-17 17:08:54</td>\n",
       "      <td>2020-04-17 17:17:03</td>\n",
       "      <td>Drake Ave &amp; Fullerton Ave</td>\n",
       "      <td>Kosciuszko Park</td>\n",
       "      <td>member</td>\n",
       "      <td>Friday</td>\n",
       "    </tr>\n",
       "    <tr>\n",
       "      <th>2</th>\n",
       "      <td>docked_bike</td>\n",
       "      <td>2020-04-01 17:54:13</td>\n",
       "      <td>2020-04-01 18:08:36</td>\n",
       "      <td>McClurg Ct &amp; Erie St</td>\n",
       "      <td>Indiana Ave &amp; Roosevelt Rd</td>\n",
       "      <td>member</td>\n",
       "      <td>Wednesday</td>\n",
       "    </tr>\n",
       "    <tr>\n",
       "      <th>3</th>\n",
       "      <td>docked_bike</td>\n",
       "      <td>2020-04-07 12:50:19</td>\n",
       "      <td>2020-04-07 13:02:31</td>\n",
       "      <td>California Ave &amp; Division St</td>\n",
       "      <td>Wood St &amp; Augusta Blvd</td>\n",
       "      <td>member</td>\n",
       "      <td>Tuesday</td>\n",
       "    </tr>\n",
       "    <tr>\n",
       "      <th>4</th>\n",
       "      <td>docked_bike</td>\n",
       "      <td>2020-04-18 10:22:59</td>\n",
       "      <td>2020-04-18 11:15:54</td>\n",
       "      <td>Rush St &amp; Hubbard St</td>\n",
       "      <td>Sheridan Rd &amp; Lawrence Ave</td>\n",
       "      <td>casual</td>\n",
       "      <td>Saturday</td>\n",
       "    </tr>\n",
       "  </tbody>\n",
       "</table>\n",
       "</div>"
      ],
      "text/plain": [
       "  rideable_type          started_at            ended_at  \\\n",
       "0   docked_bike 2020-04-26 17:45:14 2020-04-26 18:12:03   \n",
       "1   docked_bike 2020-04-17 17:08:54 2020-04-17 17:17:03   \n",
       "2   docked_bike 2020-04-01 17:54:13 2020-04-01 18:08:36   \n",
       "3   docked_bike 2020-04-07 12:50:19 2020-04-07 13:02:31   \n",
       "4   docked_bike 2020-04-18 10:22:59 2020-04-18 11:15:54   \n",
       "\n",
       "             start_station_name             end_station_name member_casual  \\\n",
       "0                  Eckhart Park  Lincoln Ave & Diversey Pkwy        member   \n",
       "1     Drake Ave & Fullerton Ave              Kosciuszko Park        member   \n",
       "2          McClurg Ct & Erie St   Indiana Ave & Roosevelt Rd        member   \n",
       "3  California Ave & Division St       Wood St & Augusta Blvd        member   \n",
       "4          Rush St & Hubbard St   Sheridan Rd & Lawrence Ave        casual   \n",
       "\n",
       "  name_of_days  \n",
       "0       Sunday  \n",
       "1       Friday  \n",
       "2    Wednesday  \n",
       "3      Tuesday  \n",
       "4     Saturday  "
      ]
     },
     "execution_count": 17,
     "metadata": {},
     "output_type": "execute_result"
    }
   ],
   "source": [
    "df.head()"
   ]
  },
  {
   "cell_type": "markdown",
   "id": "bc710520",
   "metadata": {},
   "source": [
    "### Calculating difference between two dates (ended_at - started_at)"
   ]
  },
  {
   "cell_type": "code",
   "execution_count": 18,
   "id": "59bfdb4f",
   "metadata": {},
   "outputs": [],
   "source": [
    "df['date_difference'] = df['ended_at']-df['started_at']"
   ]
  },
  {
   "cell_type": "code",
   "execution_count": 19,
   "id": "92b33889",
   "metadata": {},
   "outputs": [
    {
     "data": {
      "text/html": [
       "<div>\n",
       "<style scoped>\n",
       "    .dataframe tbody tr th:only-of-type {\n",
       "        vertical-align: middle;\n",
       "    }\n",
       "\n",
       "    .dataframe tbody tr th {\n",
       "        vertical-align: top;\n",
       "    }\n",
       "\n",
       "    .dataframe thead th {\n",
       "        text-align: right;\n",
       "    }\n",
       "</style>\n",
       "<table border=\"1\" class=\"dataframe\">\n",
       "  <thead>\n",
       "    <tr style=\"text-align: right;\">\n",
       "      <th></th>\n",
       "      <th>rideable_type</th>\n",
       "      <th>started_at</th>\n",
       "      <th>ended_at</th>\n",
       "      <th>start_station_name</th>\n",
       "      <th>end_station_name</th>\n",
       "      <th>member_casual</th>\n",
       "      <th>name_of_days</th>\n",
       "      <th>date_difference</th>\n",
       "    </tr>\n",
       "  </thead>\n",
       "  <tbody>\n",
       "    <tr>\n",
       "      <th>0</th>\n",
       "      <td>docked_bike</td>\n",
       "      <td>2020-04-26 17:45:14</td>\n",
       "      <td>2020-04-26 18:12:03</td>\n",
       "      <td>Eckhart Park</td>\n",
       "      <td>Lincoln Ave &amp; Diversey Pkwy</td>\n",
       "      <td>member</td>\n",
       "      <td>Sunday</td>\n",
       "      <td>0 days 00:26:49</td>\n",
       "    </tr>\n",
       "    <tr>\n",
       "      <th>1</th>\n",
       "      <td>docked_bike</td>\n",
       "      <td>2020-04-17 17:08:54</td>\n",
       "      <td>2020-04-17 17:17:03</td>\n",
       "      <td>Drake Ave &amp; Fullerton Ave</td>\n",
       "      <td>Kosciuszko Park</td>\n",
       "      <td>member</td>\n",
       "      <td>Friday</td>\n",
       "      <td>0 days 00:08:09</td>\n",
       "    </tr>\n",
       "    <tr>\n",
       "      <th>2</th>\n",
       "      <td>docked_bike</td>\n",
       "      <td>2020-04-01 17:54:13</td>\n",
       "      <td>2020-04-01 18:08:36</td>\n",
       "      <td>McClurg Ct &amp; Erie St</td>\n",
       "      <td>Indiana Ave &amp; Roosevelt Rd</td>\n",
       "      <td>member</td>\n",
       "      <td>Wednesday</td>\n",
       "      <td>0 days 00:14:23</td>\n",
       "    </tr>\n",
       "    <tr>\n",
       "      <th>3</th>\n",
       "      <td>docked_bike</td>\n",
       "      <td>2020-04-07 12:50:19</td>\n",
       "      <td>2020-04-07 13:02:31</td>\n",
       "      <td>California Ave &amp; Division St</td>\n",
       "      <td>Wood St &amp; Augusta Blvd</td>\n",
       "      <td>member</td>\n",
       "      <td>Tuesday</td>\n",
       "      <td>0 days 00:12:12</td>\n",
       "    </tr>\n",
       "    <tr>\n",
       "      <th>4</th>\n",
       "      <td>docked_bike</td>\n",
       "      <td>2020-04-18 10:22:59</td>\n",
       "      <td>2020-04-18 11:15:54</td>\n",
       "      <td>Rush St &amp; Hubbard St</td>\n",
       "      <td>Sheridan Rd &amp; Lawrence Ave</td>\n",
       "      <td>casual</td>\n",
       "      <td>Saturday</td>\n",
       "      <td>0 days 00:52:55</td>\n",
       "    </tr>\n",
       "  </tbody>\n",
       "</table>\n",
       "</div>"
      ],
      "text/plain": [
       "  rideable_type          started_at            ended_at  \\\n",
       "0   docked_bike 2020-04-26 17:45:14 2020-04-26 18:12:03   \n",
       "1   docked_bike 2020-04-17 17:08:54 2020-04-17 17:17:03   \n",
       "2   docked_bike 2020-04-01 17:54:13 2020-04-01 18:08:36   \n",
       "3   docked_bike 2020-04-07 12:50:19 2020-04-07 13:02:31   \n",
       "4   docked_bike 2020-04-18 10:22:59 2020-04-18 11:15:54   \n",
       "\n",
       "             start_station_name             end_station_name member_casual  \\\n",
       "0                  Eckhart Park  Lincoln Ave & Diversey Pkwy        member   \n",
       "1     Drake Ave & Fullerton Ave              Kosciuszko Park        member   \n",
       "2          McClurg Ct & Erie St   Indiana Ave & Roosevelt Rd        member   \n",
       "3  California Ave & Division St       Wood St & Augusta Blvd        member   \n",
       "4          Rush St & Hubbard St   Sheridan Rd & Lawrence Ave        casual   \n",
       "\n",
       "  name_of_days date_difference  \n",
       "0       Sunday 0 days 00:26:49  \n",
       "1       Friday 0 days 00:08:09  \n",
       "2    Wednesday 0 days 00:14:23  \n",
       "3      Tuesday 0 days 00:12:12  \n",
       "4     Saturday 0 days 00:52:55  "
      ]
     },
     "execution_count": 19,
     "metadata": {},
     "output_type": "execute_result"
    }
   ],
   "source": [
    "df.head()"
   ]
  },
  {
   "cell_type": "markdown",
   "id": "a721f70f",
   "metadata": {},
   "source": [
    "### Calculating the duration in second using date_difference column"
   ]
  },
  {
   "cell_type": "code",
   "execution_count": 20,
   "id": "73be10e0",
   "metadata": {},
   "outputs": [],
   "source": [
    "df['in_seconds'] = df['date_difference'].apply(lambda x: x.total_seconds())"
   ]
  },
  {
   "cell_type": "code",
   "execution_count": 21,
   "id": "f0313f21",
   "metadata": {},
   "outputs": [
    {
     "data": {
      "text/html": [
       "<div>\n",
       "<style scoped>\n",
       "    .dataframe tbody tr th:only-of-type {\n",
       "        vertical-align: middle;\n",
       "    }\n",
       "\n",
       "    .dataframe tbody tr th {\n",
       "        vertical-align: top;\n",
       "    }\n",
       "\n",
       "    .dataframe thead th {\n",
       "        text-align: right;\n",
       "    }\n",
       "</style>\n",
       "<table border=\"1\" class=\"dataframe\">\n",
       "  <thead>\n",
       "    <tr style=\"text-align: right;\">\n",
       "      <th></th>\n",
       "      <th>rideable_type</th>\n",
       "      <th>started_at</th>\n",
       "      <th>ended_at</th>\n",
       "      <th>start_station_name</th>\n",
       "      <th>end_station_name</th>\n",
       "      <th>member_casual</th>\n",
       "      <th>name_of_days</th>\n",
       "      <th>date_difference</th>\n",
       "      <th>in_seconds</th>\n",
       "    </tr>\n",
       "  </thead>\n",
       "  <tbody>\n",
       "    <tr>\n",
       "      <th>0</th>\n",
       "      <td>docked_bike</td>\n",
       "      <td>2020-04-26 17:45:14</td>\n",
       "      <td>2020-04-26 18:12:03</td>\n",
       "      <td>Eckhart Park</td>\n",
       "      <td>Lincoln Ave &amp; Diversey Pkwy</td>\n",
       "      <td>member</td>\n",
       "      <td>Sunday</td>\n",
       "      <td>0 days 00:26:49</td>\n",
       "      <td>1609.0</td>\n",
       "    </tr>\n",
       "    <tr>\n",
       "      <th>1</th>\n",
       "      <td>docked_bike</td>\n",
       "      <td>2020-04-17 17:08:54</td>\n",
       "      <td>2020-04-17 17:17:03</td>\n",
       "      <td>Drake Ave &amp; Fullerton Ave</td>\n",
       "      <td>Kosciuszko Park</td>\n",
       "      <td>member</td>\n",
       "      <td>Friday</td>\n",
       "      <td>0 days 00:08:09</td>\n",
       "      <td>489.0</td>\n",
       "    </tr>\n",
       "    <tr>\n",
       "      <th>2</th>\n",
       "      <td>docked_bike</td>\n",
       "      <td>2020-04-01 17:54:13</td>\n",
       "      <td>2020-04-01 18:08:36</td>\n",
       "      <td>McClurg Ct &amp; Erie St</td>\n",
       "      <td>Indiana Ave &amp; Roosevelt Rd</td>\n",
       "      <td>member</td>\n",
       "      <td>Wednesday</td>\n",
       "      <td>0 days 00:14:23</td>\n",
       "      <td>863.0</td>\n",
       "    </tr>\n",
       "    <tr>\n",
       "      <th>3</th>\n",
       "      <td>docked_bike</td>\n",
       "      <td>2020-04-07 12:50:19</td>\n",
       "      <td>2020-04-07 13:02:31</td>\n",
       "      <td>California Ave &amp; Division St</td>\n",
       "      <td>Wood St &amp; Augusta Blvd</td>\n",
       "      <td>member</td>\n",
       "      <td>Tuesday</td>\n",
       "      <td>0 days 00:12:12</td>\n",
       "      <td>732.0</td>\n",
       "    </tr>\n",
       "    <tr>\n",
       "      <th>4</th>\n",
       "      <td>docked_bike</td>\n",
       "      <td>2020-04-18 10:22:59</td>\n",
       "      <td>2020-04-18 11:15:54</td>\n",
       "      <td>Rush St &amp; Hubbard St</td>\n",
       "      <td>Sheridan Rd &amp; Lawrence Ave</td>\n",
       "      <td>casual</td>\n",
       "      <td>Saturday</td>\n",
       "      <td>0 days 00:52:55</td>\n",
       "      <td>3175.0</td>\n",
       "    </tr>\n",
       "  </tbody>\n",
       "</table>\n",
       "</div>"
      ],
      "text/plain": [
       "  rideable_type          started_at            ended_at  \\\n",
       "0   docked_bike 2020-04-26 17:45:14 2020-04-26 18:12:03   \n",
       "1   docked_bike 2020-04-17 17:08:54 2020-04-17 17:17:03   \n",
       "2   docked_bike 2020-04-01 17:54:13 2020-04-01 18:08:36   \n",
       "3   docked_bike 2020-04-07 12:50:19 2020-04-07 13:02:31   \n",
       "4   docked_bike 2020-04-18 10:22:59 2020-04-18 11:15:54   \n",
       "\n",
       "             start_station_name             end_station_name member_casual  \\\n",
       "0                  Eckhart Park  Lincoln Ave & Diversey Pkwy        member   \n",
       "1     Drake Ave & Fullerton Ave              Kosciuszko Park        member   \n",
       "2          McClurg Ct & Erie St   Indiana Ave & Roosevelt Rd        member   \n",
       "3  California Ave & Division St       Wood St & Augusta Blvd        member   \n",
       "4          Rush St & Hubbard St   Sheridan Rd & Lawrence Ave        casual   \n",
       "\n",
       "  name_of_days date_difference  in_seconds  \n",
       "0       Sunday 0 days 00:26:49      1609.0  \n",
       "1       Friday 0 days 00:08:09       489.0  \n",
       "2    Wednesday 0 days 00:14:23       863.0  \n",
       "3      Tuesday 0 days 00:12:12       732.0  \n",
       "4     Saturday 0 days 00:52:55      3175.0  "
      ]
     },
     "execution_count": 21,
     "metadata": {},
     "output_type": "execute_result"
    }
   ],
   "source": [
    "df.head()"
   ]
  },
  {
   "cell_type": "markdown",
   "id": "b3d2f4f9",
   "metadata": {},
   "source": [
    "### Converting duration in seconds into hours and minutes"
   ]
  },
  {
   "cell_type": "code",
   "execution_count": 22,
   "id": "20c90961",
   "metadata": {},
   "outputs": [],
   "source": [
    "df['in_hours'] = df['in_seconds'].apply(lambda x: round(x/3600,2))\n",
    "df['in_minutes'] = df['in_seconds'].apply(lambda x: round(x/60,2))"
   ]
  },
  {
   "cell_type": "code",
   "execution_count": 23,
   "id": "b6a1b328",
   "metadata": {},
   "outputs": [
    {
     "data": {
      "text/html": [
       "<div>\n",
       "<style scoped>\n",
       "    .dataframe tbody tr th:only-of-type {\n",
       "        vertical-align: middle;\n",
       "    }\n",
       "\n",
       "    .dataframe tbody tr th {\n",
       "        vertical-align: top;\n",
       "    }\n",
       "\n",
       "    .dataframe thead th {\n",
       "        text-align: right;\n",
       "    }\n",
       "</style>\n",
       "<table border=\"1\" class=\"dataframe\">\n",
       "  <thead>\n",
       "    <tr style=\"text-align: right;\">\n",
       "      <th></th>\n",
       "      <th>rideable_type</th>\n",
       "      <th>started_at</th>\n",
       "      <th>ended_at</th>\n",
       "      <th>start_station_name</th>\n",
       "      <th>end_station_name</th>\n",
       "      <th>member_casual</th>\n",
       "      <th>name_of_days</th>\n",
       "      <th>date_difference</th>\n",
       "      <th>in_seconds</th>\n",
       "      <th>in_hours</th>\n",
       "      <th>in_minutes</th>\n",
       "    </tr>\n",
       "  </thead>\n",
       "  <tbody>\n",
       "    <tr>\n",
       "      <th>0</th>\n",
       "      <td>docked_bike</td>\n",
       "      <td>2020-04-26 17:45:14</td>\n",
       "      <td>2020-04-26 18:12:03</td>\n",
       "      <td>Eckhart Park</td>\n",
       "      <td>Lincoln Ave &amp; Diversey Pkwy</td>\n",
       "      <td>member</td>\n",
       "      <td>Sunday</td>\n",
       "      <td>0 days 00:26:49</td>\n",
       "      <td>1609.0</td>\n",
       "      <td>0.45</td>\n",
       "      <td>26.82</td>\n",
       "    </tr>\n",
       "    <tr>\n",
       "      <th>1</th>\n",
       "      <td>docked_bike</td>\n",
       "      <td>2020-04-17 17:08:54</td>\n",
       "      <td>2020-04-17 17:17:03</td>\n",
       "      <td>Drake Ave &amp; Fullerton Ave</td>\n",
       "      <td>Kosciuszko Park</td>\n",
       "      <td>member</td>\n",
       "      <td>Friday</td>\n",
       "      <td>0 days 00:08:09</td>\n",
       "      <td>489.0</td>\n",
       "      <td>0.14</td>\n",
       "      <td>8.15</td>\n",
       "    </tr>\n",
       "    <tr>\n",
       "      <th>2</th>\n",
       "      <td>docked_bike</td>\n",
       "      <td>2020-04-01 17:54:13</td>\n",
       "      <td>2020-04-01 18:08:36</td>\n",
       "      <td>McClurg Ct &amp; Erie St</td>\n",
       "      <td>Indiana Ave &amp; Roosevelt Rd</td>\n",
       "      <td>member</td>\n",
       "      <td>Wednesday</td>\n",
       "      <td>0 days 00:14:23</td>\n",
       "      <td>863.0</td>\n",
       "      <td>0.24</td>\n",
       "      <td>14.38</td>\n",
       "    </tr>\n",
       "    <tr>\n",
       "      <th>3</th>\n",
       "      <td>docked_bike</td>\n",
       "      <td>2020-04-07 12:50:19</td>\n",
       "      <td>2020-04-07 13:02:31</td>\n",
       "      <td>California Ave &amp; Division St</td>\n",
       "      <td>Wood St &amp; Augusta Blvd</td>\n",
       "      <td>member</td>\n",
       "      <td>Tuesday</td>\n",
       "      <td>0 days 00:12:12</td>\n",
       "      <td>732.0</td>\n",
       "      <td>0.20</td>\n",
       "      <td>12.20</td>\n",
       "    </tr>\n",
       "    <tr>\n",
       "      <th>4</th>\n",
       "      <td>docked_bike</td>\n",
       "      <td>2020-04-18 10:22:59</td>\n",
       "      <td>2020-04-18 11:15:54</td>\n",
       "      <td>Rush St &amp; Hubbard St</td>\n",
       "      <td>Sheridan Rd &amp; Lawrence Ave</td>\n",
       "      <td>casual</td>\n",
       "      <td>Saturday</td>\n",
       "      <td>0 days 00:52:55</td>\n",
       "      <td>3175.0</td>\n",
       "      <td>0.88</td>\n",
       "      <td>52.92</td>\n",
       "    </tr>\n",
       "  </tbody>\n",
       "</table>\n",
       "</div>"
      ],
      "text/plain": [
       "  rideable_type          started_at            ended_at  \\\n",
       "0   docked_bike 2020-04-26 17:45:14 2020-04-26 18:12:03   \n",
       "1   docked_bike 2020-04-17 17:08:54 2020-04-17 17:17:03   \n",
       "2   docked_bike 2020-04-01 17:54:13 2020-04-01 18:08:36   \n",
       "3   docked_bike 2020-04-07 12:50:19 2020-04-07 13:02:31   \n",
       "4   docked_bike 2020-04-18 10:22:59 2020-04-18 11:15:54   \n",
       "\n",
       "             start_station_name             end_station_name member_casual  \\\n",
       "0                  Eckhart Park  Lincoln Ave & Diversey Pkwy        member   \n",
       "1     Drake Ave & Fullerton Ave              Kosciuszko Park        member   \n",
       "2          McClurg Ct & Erie St   Indiana Ave & Roosevelt Rd        member   \n",
       "3  California Ave & Division St       Wood St & Augusta Blvd        member   \n",
       "4          Rush St & Hubbard St   Sheridan Rd & Lawrence Ave        casual   \n",
       "\n",
       "  name_of_days date_difference  in_seconds  in_hours  in_minutes  \n",
       "0       Sunday 0 days 00:26:49      1609.0      0.45       26.82  \n",
       "1       Friday 0 days 00:08:09       489.0      0.14        8.15  \n",
       "2    Wednesday 0 days 00:14:23       863.0      0.24       14.38  \n",
       "3      Tuesday 0 days 00:12:12       732.0      0.20       12.20  \n",
       "4     Saturday 0 days 00:52:55      3175.0      0.88       52.92  "
      ]
     },
     "execution_count": 23,
     "metadata": {},
     "output_type": "execute_result"
    }
   ],
   "source": [
    "df.head()"
   ]
  },
  {
   "cell_type": "code",
   "execution_count": 24,
   "id": "96466a6e",
   "metadata": {},
   "outputs": [
    {
     "data": {
      "text/html": [
       "<div>\n",
       "<style scoped>\n",
       "    .dataframe tbody tr th:only-of-type {\n",
       "        vertical-align: middle;\n",
       "    }\n",
       "\n",
       "    .dataframe tbody tr th {\n",
       "        vertical-align: top;\n",
       "    }\n",
       "\n",
       "    .dataframe thead th {\n",
       "        text-align: right;\n",
       "    }\n",
       "</style>\n",
       "<table border=\"1\" class=\"dataframe\">\n",
       "  <thead>\n",
       "    <tr style=\"text-align: right;\">\n",
       "      <th></th>\n",
       "      <th>date_difference</th>\n",
       "      <th>in_seconds</th>\n",
       "      <th>in_hours</th>\n",
       "      <th>in_minutes</th>\n",
       "    </tr>\n",
       "  </thead>\n",
       "  <tbody>\n",
       "    <tr>\n",
       "      <th>count</th>\n",
       "      <td>9584529</td>\n",
       "      <td>9.584529e+06</td>\n",
       "      <td>9.584529e+06</td>\n",
       "      <td>9.584529e+06</td>\n",
       "    </tr>\n",
       "    <tr>\n",
       "      <th>mean</th>\n",
       "      <td>0 days 00:22:33.901804564</td>\n",
       "      <td>1.353902e+03</td>\n",
       "      <td>3.760784e-01</td>\n",
       "      <td>2.256503e+01</td>\n",
       "    </tr>\n",
       "    <tr>\n",
       "      <th>std</th>\n",
       "      <td>0 days 04:33:32.962979077</td>\n",
       "      <td>1.641296e+04</td>\n",
       "      <td>4.559161e+00</td>\n",
       "      <td>2.735494e+02</td>\n",
       "    </tr>\n",
       "    <tr>\n",
       "      <th>min</th>\n",
       "      <td>-21 days +19:50:02</td>\n",
       "      <td>-1.742998e+06</td>\n",
       "      <td>-4.841700e+02</td>\n",
       "      <td>-2.904997e+04</td>\n",
       "    </tr>\n",
       "    <tr>\n",
       "      <th>25%</th>\n",
       "      <td>0 days 00:06:55</td>\n",
       "      <td>4.150000e+02</td>\n",
       "      <td>1.200000e-01</td>\n",
       "      <td>6.920000e+00</td>\n",
       "    </tr>\n",
       "    <tr>\n",
       "      <th>50%</th>\n",
       "      <td>0 days 00:12:32</td>\n",
       "      <td>7.520000e+02</td>\n",
       "      <td>2.100000e-01</td>\n",
       "      <td>1.253000e+01</td>\n",
       "    </tr>\n",
       "    <tr>\n",
       "      <th>75%</th>\n",
       "      <td>0 days 00:23:08</td>\n",
       "      <td>1.388000e+03</td>\n",
       "      <td>3.900000e-01</td>\n",
       "      <td>2.313000e+01</td>\n",
       "    </tr>\n",
       "    <tr>\n",
       "      <th>max</th>\n",
       "      <td>40 days 18:40:02</td>\n",
       "      <td>3.523202e+06</td>\n",
       "      <td>9.786700e+02</td>\n",
       "      <td>5.872003e+04</td>\n",
       "    </tr>\n",
       "  </tbody>\n",
       "</table>\n",
       "</div>"
      ],
      "text/plain": [
       "                 date_difference    in_seconds      in_hours    in_minutes\n",
       "count                    9584529  9.584529e+06  9.584529e+06  9.584529e+06\n",
       "mean   0 days 00:22:33.901804564  1.353902e+03  3.760784e-01  2.256503e+01\n",
       "std    0 days 04:33:32.962979077  1.641296e+04  4.559161e+00  2.735494e+02\n",
       "min           -21 days +19:50:02 -1.742998e+06 -4.841700e+02 -2.904997e+04\n",
       "25%              0 days 00:06:55  4.150000e+02  1.200000e-01  6.920000e+00\n",
       "50%              0 days 00:12:32  7.520000e+02  2.100000e-01  1.253000e+01\n",
       "75%              0 days 00:23:08  1.388000e+03  3.900000e-01  2.313000e+01\n",
       "max             40 days 18:40:02  3.523202e+06  9.786700e+02  5.872003e+04"
      ]
     },
     "execution_count": 24,
     "metadata": {},
     "output_type": "execute_result"
    }
   ],
   "source": [
    "df.describe()"
   ]
  },
  {
   "cell_type": "markdown",
   "id": "5543fe68",
   "metadata": {},
   "source": [
    "### Dropping the rides with last less than 60 seconds"
   ]
  },
  {
   "cell_type": "code",
   "execution_count": 25,
   "id": "465c8955",
   "metadata": {},
   "outputs": [
    {
     "data": {
      "text/plain": [
       "(158426, 11)"
      ]
     },
     "execution_count": 25,
     "metadata": {},
     "output_type": "execute_result"
    }
   ],
   "source": [
    "df[df['in_seconds']<=60].shape"
   ]
  },
  {
   "cell_type": "code",
   "execution_count": 26,
   "id": "37ec1b15",
   "metadata": {},
   "outputs": [],
   "source": [
    "df = df[df['in_seconds']>60]"
   ]
  },
  {
   "cell_type": "code",
   "execution_count": 27,
   "id": "38ae50f7",
   "metadata": {},
   "outputs": [
    {
     "data": {
      "text/plain": [
       "(9426103, 11)"
      ]
     },
     "execution_count": 27,
     "metadata": {},
     "output_type": "execute_result"
    }
   ],
   "source": [
    "df.shape"
   ]
  },
  {
   "cell_type": "markdown",
   "id": "60abb38a",
   "metadata": {},
   "source": [
    "### Now droping the date_difference and inseconds column from dataframe as it is not required for further analysis"
   ]
  },
  {
   "cell_type": "code",
   "execution_count": 28,
   "id": "0da97ad0",
   "metadata": {},
   "outputs": [],
   "source": [
    "df.drop(['date_difference','in_seconds'], axis = 1, inplace = True)"
   ]
  },
  {
   "cell_type": "markdown",
   "id": "9c8be533",
   "metadata": {},
   "source": [
    "### Checking null value in the final dataset"
   ]
  },
  {
   "cell_type": "code",
   "execution_count": 29,
   "id": "9e422ea5",
   "metadata": {},
   "outputs": [
    {
     "data": {
      "text/plain": [
       "rideable_type              0\n",
       "started_at                 0\n",
       "ended_at                   0\n",
       "start_station_name    907841\n",
       "end_station_name      978161\n",
       "member_casual              0\n",
       "name_of_days               0\n",
       "in_hours                   0\n",
       "in_minutes                 0\n",
       "dtype: int64"
      ]
     },
     "execution_count": 29,
     "metadata": {},
     "output_type": "execute_result"
    }
   ],
   "source": [
    "df.isnull().sum()"
   ]
  },
  {
   "cell_type": "markdown",
   "id": "dadd46dc",
   "metadata": {},
   "source": [
    "### Dropping the null values"
   ]
  },
  {
   "cell_type": "code",
   "execution_count": 30,
   "id": "b1c619db",
   "metadata": {},
   "outputs": [],
   "source": [
    "df.dropna(inplace = True)"
   ]
  },
  {
   "cell_type": "code",
   "execution_count": 31,
   "id": "f3809c35",
   "metadata": {},
   "outputs": [
    {
     "data": {
      "text/plain": [
       "rideable_type         0\n",
       "started_at            0\n",
       "ended_at              0\n",
       "start_station_name    0\n",
       "end_station_name      0\n",
       "member_casual         0\n",
       "name_of_days          0\n",
       "in_hours              0\n",
       "in_minutes            0\n",
       "dtype: int64"
      ]
     },
     "execution_count": 31,
     "metadata": {},
     "output_type": "execute_result"
    }
   ],
   "source": [
    "df.isnull().sum()"
   ]
  },
  {
   "cell_type": "markdown",
   "id": "f6bdf8e1",
   "metadata": {},
   "source": [
    "### Final cleaned dataset"
   ]
  },
  {
   "cell_type": "code",
   "execution_count": 32,
   "id": "658049ac",
   "metadata": {
    "scrolled": true
   },
   "outputs": [
    {
     "data": {
      "text/html": [
       "<div>\n",
       "<style scoped>\n",
       "    .dataframe tbody tr th:only-of-type {\n",
       "        vertical-align: middle;\n",
       "    }\n",
       "\n",
       "    .dataframe tbody tr th {\n",
       "        vertical-align: top;\n",
       "    }\n",
       "\n",
       "    .dataframe thead th {\n",
       "        text-align: right;\n",
       "    }\n",
       "</style>\n",
       "<table border=\"1\" class=\"dataframe\">\n",
       "  <thead>\n",
       "    <tr style=\"text-align: right;\">\n",
       "      <th></th>\n",
       "      <th>rideable_type</th>\n",
       "      <th>started_at</th>\n",
       "      <th>ended_at</th>\n",
       "      <th>start_station_name</th>\n",
       "      <th>end_station_name</th>\n",
       "      <th>member_casual</th>\n",
       "      <th>name_of_days</th>\n",
       "      <th>in_hours</th>\n",
       "      <th>in_minutes</th>\n",
       "    </tr>\n",
       "  </thead>\n",
       "  <tbody>\n",
       "    <tr>\n",
       "      <th>0</th>\n",
       "      <td>docked_bike</td>\n",
       "      <td>2020-04-26 17:45:14</td>\n",
       "      <td>2020-04-26 18:12:03</td>\n",
       "      <td>Eckhart Park</td>\n",
       "      <td>Lincoln Ave &amp; Diversey Pkwy</td>\n",
       "      <td>member</td>\n",
       "      <td>Sunday</td>\n",
       "      <td>0.45</td>\n",
       "      <td>26.82</td>\n",
       "    </tr>\n",
       "    <tr>\n",
       "      <th>1</th>\n",
       "      <td>docked_bike</td>\n",
       "      <td>2020-04-17 17:08:54</td>\n",
       "      <td>2020-04-17 17:17:03</td>\n",
       "      <td>Drake Ave &amp; Fullerton Ave</td>\n",
       "      <td>Kosciuszko Park</td>\n",
       "      <td>member</td>\n",
       "      <td>Friday</td>\n",
       "      <td>0.14</td>\n",
       "      <td>8.15</td>\n",
       "    </tr>\n",
       "    <tr>\n",
       "      <th>2</th>\n",
       "      <td>docked_bike</td>\n",
       "      <td>2020-04-01 17:54:13</td>\n",
       "      <td>2020-04-01 18:08:36</td>\n",
       "      <td>McClurg Ct &amp; Erie St</td>\n",
       "      <td>Indiana Ave &amp; Roosevelt Rd</td>\n",
       "      <td>member</td>\n",
       "      <td>Wednesday</td>\n",
       "      <td>0.24</td>\n",
       "      <td>14.38</td>\n",
       "    </tr>\n",
       "    <tr>\n",
       "      <th>3</th>\n",
       "      <td>docked_bike</td>\n",
       "      <td>2020-04-07 12:50:19</td>\n",
       "      <td>2020-04-07 13:02:31</td>\n",
       "      <td>California Ave &amp; Division St</td>\n",
       "      <td>Wood St &amp; Augusta Blvd</td>\n",
       "      <td>member</td>\n",
       "      <td>Tuesday</td>\n",
       "      <td>0.20</td>\n",
       "      <td>12.20</td>\n",
       "    </tr>\n",
       "    <tr>\n",
       "      <th>4</th>\n",
       "      <td>docked_bike</td>\n",
       "      <td>2020-04-18 10:22:59</td>\n",
       "      <td>2020-04-18 11:15:54</td>\n",
       "      <td>Rush St &amp; Hubbard St</td>\n",
       "      <td>Sheridan Rd &amp; Lawrence Ave</td>\n",
       "      <td>casual</td>\n",
       "      <td>Saturday</td>\n",
       "      <td>0.88</td>\n",
       "      <td>52.92</td>\n",
       "    </tr>\n",
       "  </tbody>\n",
       "</table>\n",
       "</div>"
      ],
      "text/plain": [
       "  rideable_type          started_at            ended_at  \\\n",
       "0   docked_bike 2020-04-26 17:45:14 2020-04-26 18:12:03   \n",
       "1   docked_bike 2020-04-17 17:08:54 2020-04-17 17:17:03   \n",
       "2   docked_bike 2020-04-01 17:54:13 2020-04-01 18:08:36   \n",
       "3   docked_bike 2020-04-07 12:50:19 2020-04-07 13:02:31   \n",
       "4   docked_bike 2020-04-18 10:22:59 2020-04-18 11:15:54   \n",
       "\n",
       "             start_station_name             end_station_name member_casual  \\\n",
       "0                  Eckhart Park  Lincoln Ave & Diversey Pkwy        member   \n",
       "1     Drake Ave & Fullerton Ave              Kosciuszko Park        member   \n",
       "2          McClurg Ct & Erie St   Indiana Ave & Roosevelt Rd        member   \n",
       "3  California Ave & Division St       Wood St & Augusta Blvd        member   \n",
       "4          Rush St & Hubbard St   Sheridan Rd & Lawrence Ave        casual   \n",
       "\n",
       "  name_of_days  in_hours  in_minutes  \n",
       "0       Sunday      0.45       26.82  \n",
       "1       Friday      0.14        8.15  \n",
       "2    Wednesday      0.24       14.38  \n",
       "3      Tuesday      0.20       12.20  \n",
       "4     Saturday      0.88       52.92  "
      ]
     },
     "execution_count": 32,
     "metadata": {},
     "output_type": "execute_result"
    }
   ],
   "source": [
    "df.head()"
   ]
  },
  {
   "cell_type": "code",
   "execution_count": 33,
   "id": "b519886b",
   "metadata": {},
   "outputs": [],
   "source": [
    "df.to_csv(\"cycle data.csv\", index = False)"
   ]
  },
  {
   "cell_type": "markdown",
   "id": "53cb0f68",
   "metadata": {},
   "source": [
    "##                                                             THANK YOU"
   ]
  }
 ],
 "metadata": {
  "kernelspec": {
   "display_name": "Python 3 (ipykernel)",
   "language": "python",
   "name": "python3"
  },
  "language_info": {
   "codemirror_mode": {
    "name": "ipython",
    "version": 3
   },
   "file_extension": ".py",
   "mimetype": "text/x-python",
   "name": "python",
   "nbconvert_exporter": "python",
   "pygments_lexer": "ipython3",
   "version": "3.9.7"
  }
 },
 "nbformat": 4,
 "nbformat_minor": 5
}
